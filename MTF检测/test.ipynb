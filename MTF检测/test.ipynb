{
 "cells": [
  {
   "cell_type": "markdown",
   "source": [
    "# MTF检测"
   ],
   "metadata": {
    "collapsed": false
   }
  },
  {
   "cell_type": "code",
   "execution_count": 1,
   "outputs": [],
   "source": [
    "# 导包\n",
    "import numpy as np\n",
    "import cv2"
   ],
   "metadata": {
    "collapsed": false,
    "ExecuteTime": {
     "end_time": "2024-07-05T01:25:50.830028800Z",
     "start_time": "2024-07-05T01:25:50.695506700Z"
    }
   }
  },
  {
   "cell_type": "markdown",
   "source": [
    "## 1 图像采集\n",
    "（1） 读取图像方式\n",
    "（2） 链接相机采集"
   ],
   "metadata": {
    "collapsed": false
   }
  },
  {
   "cell_type": "code",
   "execution_count": 2,
   "outputs": [],
   "source": [
    "image = cv2.imread(\"test_image\")"
   ],
   "metadata": {
    "collapsed": false,
    "ExecuteTime": {
     "end_time": "2024-07-05T01:28:36.778130300Z",
     "start_time": "2024-07-05T01:28:36.773130400Z"
    }
   }
  },
  {
   "cell_type": "markdown",
   "source": [
    "## 2 图像预处理\n",
    "### （1） 图像分割：\n",
    "- 根据中心到四角的距离，划分为不同的视场（0%、 30%、 50、 70%、 85%）。\n",
    "- 每个视场内，选取代表性的方形白图。\n"
   ],
   "metadata": {
    "collapsed": false
   }
  },
  {
   "cell_type": "code",
   "execution_count": 3,
   "outputs": [],
   "source": [
    "pass"
   ],
   "metadata": {
    "collapsed": false,
    "ExecuteTime": {
     "end_time": "2024-07-05T01:37:49.704138400Z",
     "start_time": "2024-07-05T01:37:49.699137900Z"
    }
   }
  },
  {
   "cell_type": "markdown",
   "source": [
    "## 3 MTF计算\n",
    "### (1) 计算对比度"
   ],
   "metadata": {
    "collapsed": false
   }
  },
  {
   "cell_type": "code",
   "execution_count": 4,
   "outputs": [],
   "source": [
    "def calculate_contrast(image):\n",
    "    I_max = np.max(image)\n",
    "    I_min = np.min(image)\n",
    "    contrast = (I_max - I_min) / (I_max + I_min)\n",
    "    return contrast"
   ],
   "metadata": {
    "collapsed": false,
    "ExecuteTime": {
     "end_time": "2024-07-05T01:52:46.079400600Z",
     "start_time": "2024-07-05T01:52:46.074400700Z"
    }
   }
  },
  {
   "cell_type": "markdown",
   "source": [
    "### (2) 计算MTF"
   ],
   "metadata": {
    "collapsed": false
   }
  },
  {
   "cell_type": "code",
   "execution_count": 5,
   "outputs": [],
   "source": [
    "def calculate_MTF(C_in, C_out):\n",
    "    MTF = C_out / C_in\n",
    "    return MTF"
   ],
   "metadata": {
    "collapsed": false,
    "ExecuteTime": {
     "end_time": "2024-07-05T01:56:49.872314Z",
     "start_time": "2024-07-05T01:56:49.865313800Z"
    }
   }
  },
  {
   "cell_type": "markdown",
   "source": [
    "### (3) 视场MTF计算"
   ],
   "metadata": {
    "collapsed": false
   }
  },
  {
   "cell_type": "code",
   "execution_count": 1,
   "outputs": [],
   "source": [
    "def main():\n",
    "    # 假设已经采集到了图像\n",
    "    image = cv2.imread(\"mtf_image\", 0)\n",
    "\n",
    "    # 对图像进行预处理（如裁剪， 分割）\n",
    "    # 分割为不同的市场\n",
    "    fields = [crop_image(image, field_coords) for field_coords in field_coords_list]\n",
    "\n",
    "    mtf_values = []\n",
    "    for field in fields:\n",
    "        # 提取子午方向和弧矢方向的边缘\n",
    "        C_in = calculate_contrast(original_pattern)\n",
    "        # 子午方向\n",
    "        C_out_meridional = calculate_contrast(field_meridional)\n",
    "        # 弧矢方向\n",
    "        C_out_sagittal = calculate_contrast(field_sagittal)\n",
    "\n",
    "        MTF_meridional = calculate_MTF(C_in, C_out_meridional)\n",
    "        MTF_sagittal = calculate_MTF(C_in, C_out_sagittal)\n",
    "\n",
    "        MTF_field = min(MTF_meridional, MTF_sagittal)\n",
    "        mtf_values.append(MTF_field)\n",
    "\n",
    "    # 结果判定\n",
    "    for i, mtf in enumerate(mtf_values):\n",
    "        print(f\"Field {i}: MTF = {mtf}\")"
   ],
   "metadata": {
    "collapsed": false,
    "ExecuteTime": {
     "end_time": "2024-07-09T03:18:56.962763600Z",
     "start_time": "2024-07-09T03:18:56.959763500Z"
    }
   }
  },
  {
   "cell_type": "markdown",
   "source": [
    "### 刃边函数（ESF）"
   ],
   "metadata": {
    "collapsed": false
   }
  },
  {
   "cell_type": "code",
   "execution_count": null,
   "outputs": [],
   "source": [
    "def ESF(line_image):\n",
    "    img = line_image.copy()\n",
    "    line_data = pix_img(img)\n",
    "    # plot line_data\n",
    "    ESF_f = f1(line_data)\n",
    "    LSF_f = ESF_to_LSF(ESF_f)\n",
    "    MTF_f = LSF_to_MTF(LSF_f)\n",
    "    return MTF_f"
   ],
   "metadata": {
    "collapsed": false
   }
  },
  {
   "cell_type": "markdown",
   "source": [
    "### PSF(x, y) to MTF(u, v): 二维傅里叶变换"
   ],
   "metadata": {
    "collapsed": false
   }
  },
  {
   "cell_type": "markdown",
   "source": [],
   "metadata": {
    "collapsed": false
   }
  },
  {
   "cell_type": "code",
   "execution_count": null,
   "outputs": [],
   "source": [],
   "metadata": {
    "collapsed": false
   }
  },
  {
   "cell_type": "markdown",
   "source": [
    "### PSF(x, y) to LSF(x)： 积分\n",
    "### PSF(x, y) to ESF(X)： 积分\n",
    "\n",
    "### MTF(u, v) to MTF(u, 0)：\n",
    "\n",
    "### LSF(x) to MTF(u, 0)： 一维傅里叶变换\n",
    "### LSF(x) to ESF(x)： 积分\n",
    "\n",
    "### ESF(x) to LSF(x)： 求导"
   ],
   "metadata": {
    "collapsed": false
   }
  },
  {
   "cell_type": "markdown",
   "source": [
    "### 步骤 1：提取图像边缘\n",
    "- 使用Sobel算子来提取方块的边缘。\n",
    "\n",
    "### 步骤 2：计算边缘的ESF\n",
    "- 沿着提取的边缘计算ESF（Edge Spread Function）。这是图像边缘的灰度值变化曲线。\n",
    "\n",
    "### 步骤 3：从ESF计算LSF\n",
    "- 通过对ESF求导得到LSF（Line Spread Function），这是边缘在空间域的变化率。\n",
    "\n",
    "### 步骤 4：通过傅里叶变换计算MTF\n",
    "- 对LSF进行傅里叶变换，得到MTF。"
   ],
   "metadata": {
    "collapsed": false
   }
  },
  {
   "cell_type": "code",
   "execution_count": null,
   "outputs": [],
   "source": [],
   "metadata": {
    "collapsed": false
   }
  }
 ],
 "metadata": {
  "kernelspec": {
   "display_name": "Python 3",
   "language": "python",
   "name": "python3"
  },
  "language_info": {
   "codemirror_mode": {
    "name": "ipython",
    "version": 2
   },
   "file_extension": ".py",
   "mimetype": "text/x-python",
   "name": "python",
   "nbconvert_exporter": "python",
   "pygments_lexer": "ipython2",
   "version": "2.7.6"
  }
 },
 "nbformat": 4,
 "nbformat_minor": 0
}
